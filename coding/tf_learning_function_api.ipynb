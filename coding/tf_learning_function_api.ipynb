{
 "cells": [
  {
   "cell_type": "code",
   "execution_count": 1,
   "id": "a7e4656c",
   "metadata": {},
   "outputs": [],
   "source": [
    "import tensorflow as tf "
   ]
  },
  {
   "cell_type": "code",
   "execution_count": 3,
   "id": "80c18815",
   "metadata": {},
   "outputs": [],
   "source": [
    "from tensorflow import keras \n",
    "import matplotlib.pyplot as plt\n",
    "%matplotlib inline"
   ]
  },
  {
   "cell_type": "code",
   "execution_count": 5,
   "id": "d46bb4d4",
   "metadata": {},
   "outputs": [],
   "source": [
    "fashion_mnist=keras.datasets.fashion_mnist\n",
    "(train_image,train_label),(test_image,test_label)=fashion_mnist.load_data()"
   ]
  },
  {
   "cell_type": "code",
   "execution_count": 11,
   "id": "bbe3f9a5",
   "metadata": {},
   "outputs": [],
   "source": [
    "train_image=train_image/255\n",
    "test_image=test_image/255"
   ]
  },
  {
   "cell_type": "code",
   "execution_count": 13,
   "id": "d49a386c",
   "metadata": {},
   "outputs": [
    {
     "data": {
      "text/plain": [
       "(60000, 28, 28)"
      ]
     },
     "execution_count": 13,
     "metadata": {},
     "output_type": "execute_result"
    }
   ],
   "source": [
    "train_image.shape"
   ]
  },
  {
   "cell_type": "code",
   "execution_count": 15,
   "id": "76fcc87a",
   "metadata": {},
   "outputs": [],
   "source": [
    "input_layer=keras.Input(shape=(28,28))"
   ]
  },
  {
   "cell_type": "code",
   "execution_count": 17,
   "id": "7d91a3f0",
   "metadata": {},
   "outputs": [],
   "source": [
    "x=keras.layers.Flatten()(input_layer)"
   ]
  },
  {
   "cell_type": "code",
   "execution_count": 19,
   "id": "f930d432",
   "metadata": {},
   "outputs": [],
   "source": [
    "x=keras.layers.Dense(32,activation='relu')(x)"
   ]
  },
  {
   "cell_type": "code",
   "execution_count": 20,
   "id": "c253822a",
   "metadata": {},
   "outputs": [],
   "source": [
    "x=keras.layers.Dropout(0.5)(x)"
   ]
  },
  {
   "cell_type": "code",
   "execution_count": 21,
   "id": "9ffcb6aa",
   "metadata": {},
   "outputs": [],
   "source": [
    "x=keras.layers.Dense(64,activation='relu')(x)"
   ]
  },
  {
   "cell_type": "code",
   "execution_count": 22,
   "id": "ad7b7ba9",
   "metadata": {},
   "outputs": [],
   "source": [
    "output_layer=keras.layers.Dense(10,activation='softmax')(x)"
   ]
  },
  {
   "cell_type": "code",
   "execution_count": 23,
   "id": "6cf8ba28",
   "metadata": {},
   "outputs": [],
   "source": [
    "model=keras.Model(inputs=input_layer,outputs=output_layer)"
   ]
  },
  {
   "cell_type": "code",
   "execution_count": 24,
   "id": "eb89595c",
   "metadata": {},
   "outputs": [
    {
     "name": "stdout",
     "output_type": "stream",
     "text": [
      "Model: \"functional_1\"\n",
      "_________________________________________________________________\n",
      "Layer (type)                 Output Shape              Param #   \n",
      "=================================================================\n",
      "input_1 (InputLayer)         [(None, 28, 28)]          0         \n",
      "_________________________________________________________________\n",
      "flatten_1 (Flatten)          (None, 784)               0         \n",
      "_________________________________________________________________\n",
      "dense (Dense)                (None, 32)                25120     \n",
      "_________________________________________________________________\n",
      "dropout (Dropout)            (None, 32)                0         \n",
      "_________________________________________________________________\n",
      "dense_1 (Dense)              (None, 64)                2112      \n",
      "_________________________________________________________________\n",
      "dense_2 (Dense)              (None, 10)                650       \n",
      "=================================================================\n",
      "Total params: 27,882\n",
      "Trainable params: 27,882\n",
      "Non-trainable params: 0\n",
      "_________________________________________________________________\n"
     ]
    }
   ],
   "source": [
    "model.summary()"
   ]
  },
  {
   "cell_type": "code",
   "execution_count": 25,
   "id": "f164ef26",
   "metadata": {},
   "outputs": [],
   "source": [
    "model.compile(optimizer='adam',\n",
    "              loss='sparse_categorical_crossentropy',\n",
    "              metrics=['accuracy']\n",
    ")"
   ]
  },
  {
   "cell_type": "code",
   "execution_count": 26,
   "id": "879999bd",
   "metadata": {},
   "outputs": [
    {
     "name": "stdout",
     "output_type": "stream",
     "text": [
      "Epoch 1/10\n",
      "1875/1875 [==============================] - 2s 978us/step - loss: 0.8742 - accuracy: 0.6724 - val_loss: 0.5817 - val_accuracy: 0.7969\n",
      "Epoch 2/10\n",
      "1875/1875 [==============================] - 2s 946us/step - loss: 0.6711 - accuracy: 0.7489 - val_loss: 0.5829 - val_accuracy: 0.7887\n",
      "Epoch 3/10\n",
      "1875/1875 [==============================] - 2s 875us/step - loss: 0.6328 - accuracy: 0.7642 - val_loss: 0.5462 - val_accuracy: 0.8057\n",
      "Epoch 4/10\n",
      "1875/1875 [==============================] - 2s 943us/step - loss: 0.6063 - accuracy: 0.7751 - val_loss: 0.5622 - val_accuracy: 0.7981\n",
      "Epoch 5/10\n",
      "1875/1875 [==============================] - 2s 908us/step - loss: 0.5875 - accuracy: 0.7851 - val_loss: 0.5539 - val_accuracy: 0.7929\n",
      "Epoch 6/10\n",
      "1875/1875 [==============================] - 2s 935us/step - loss: 0.5710 - accuracy: 0.7896 - val_loss: 0.5296 - val_accuracy: 0.8085\n",
      "Epoch 7/10\n",
      "1875/1875 [==============================] - 2s 919us/step - loss: 0.5575 - accuracy: 0.7966 - val_loss: 0.5361 - val_accuracy: 0.8006\n",
      "Epoch 8/10\n",
      "1875/1875 [==============================] - 2s 942us/step - loss: 0.5524 - accuracy: 0.7985 - val_loss: 0.5912 - val_accuracy: 0.7692\n",
      "Epoch 9/10\n",
      "1875/1875 [==============================] - 2s 913us/step - loss: 0.5422 - accuracy: 0.8027 - val_loss: 0.5617 - val_accuracy: 0.7818\n",
      "Epoch 10/10\n",
      "1875/1875 [==============================] - 2s 934us/step - loss: 0.5292 - accuracy: 0.8066 - val_loss: 0.5673 - val_accuracy: 0.7775\n"
     ]
    }
   ],
   "source": [
    "history=model.fit(train_image,\n",
    "                  train_label,\n",
    "                  epochs=10,\n",
    "                  validation_data=(test_image,test_label)\n",
    ")"
   ]
  },
  {
   "cell_type": "code",
   "execution_count": null,
   "id": "f6e1dbf0",
   "metadata": {},
   "outputs": [],
   "source": []
  }
 ],
 "metadata": {
  "kernelspec": {
   "display_name": "Python 3 (ipykernel)",
   "language": "python",
   "name": "python3"
  },
  "language_info": {
   "codemirror_mode": {
    "name": "ipython",
    "version": 3
   },
   "file_extension": ".py",
   "mimetype": "text/x-python",
   "name": "python",
   "nbconvert_exporter": "python",
   "pygments_lexer": "ipython3",
   "version": "3.7.12"
  }
 },
 "nbformat": 4,
 "nbformat_minor": 5
}
