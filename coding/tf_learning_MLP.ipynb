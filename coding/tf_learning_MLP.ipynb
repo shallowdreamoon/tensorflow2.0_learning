{
 "cells": [
  {
   "cell_type": "code",
   "execution_count": 1,
   "id": "centered-mother",
   "metadata": {},
   "outputs": [],
   "source": [
    "import tensorflow as tf"
   ]
  },
  {
   "cell_type": "code",
   "execution_count": 2,
   "id": "unsigned-retro",
   "metadata": {},
   "outputs": [
    {
     "name": "stdout",
     "output_type": "stream",
     "text": [
      "2.3.0\n"
     ]
    }
   ],
   "source": [
    "print(tf.__version__)"
   ]
  },
  {
   "cell_type": "code",
   "execution_count": 17,
   "id": "7051c6fa",
   "metadata": {},
   "outputs": [],
   "source": [
    "import pandas as pd\n",
    "import numpy as np\n",
    "import matplotlib.pyplot as plt\n",
    "%matplotlib inline"
   ]
  },
  {
   "cell_type": "code",
   "execution_count": 63,
   "id": "9e1a51e3",
   "metadata": {},
   "outputs": [],
   "source": [
    "#data=pd.read_csv(\"E:\\\\StudyResource\\\\tensorflow_learning\\\\data.txt\",sep='\\t')"
   ]
  },
  {
   "cell_type": "code",
   "execution_count": 64,
   "id": "77e6e906",
   "metadata": {},
   "outputs": [],
   "source": [
    "#data.head()"
   ]
  },
  {
   "cell_type": "code",
   "execution_count": null,
   "id": "c6b4500d",
   "metadata": {},
   "outputs": [],
   "source": []
  },
  {
   "cell_type": "code",
   "execution_count": 18,
   "id": "ad39ae11",
   "metadata": {},
   "outputs": [],
   "source": [
    "data=pd.read_csv(\"E:\\\\StudyResource\\\\tensorflow_learning\\\\advertising.txt\")"
   ]
  },
  {
   "cell_type": "code",
   "execution_count": 19,
   "id": "bd3742e3",
   "metadata": {},
   "outputs": [
    {
     "data": {
      "text/html": [
       "<div>\n",
       "<style scoped>\n",
       "    .dataframe tbody tr th:only-of-type {\n",
       "        vertical-align: middle;\n",
       "    }\n",
       "\n",
       "    .dataframe tbody tr th {\n",
       "        vertical-align: top;\n",
       "    }\n",
       "\n",
       "    .dataframe thead th {\n",
       "        text-align: right;\n",
       "    }\n",
       "</style>\n",
       "<table border=\"1\" class=\"dataframe\">\n",
       "  <thead>\n",
       "    <tr style=\"text-align: right;\">\n",
       "      <th></th>\n",
       "      <th>TV</th>\n",
       "      <th>radio</th>\n",
       "      <th>newspaper</th>\n",
       "      <th>sales</th>\n",
       "    </tr>\n",
       "  </thead>\n",
       "  <tbody>\n",
       "    <tr>\n",
       "      <th>1</th>\n",
       "      <td>230.1</td>\n",
       "      <td>37.8</td>\n",
       "      <td>69.2</td>\n",
       "      <td>22.1</td>\n",
       "    </tr>\n",
       "    <tr>\n",
       "      <th>2</th>\n",
       "      <td>44.5</td>\n",
       "      <td>39.3</td>\n",
       "      <td>45.1</td>\n",
       "      <td>10.4</td>\n",
       "    </tr>\n",
       "    <tr>\n",
       "      <th>3</th>\n",
       "      <td>17.2</td>\n",
       "      <td>45.9</td>\n",
       "      <td>69.3</td>\n",
       "      <td>9.3</td>\n",
       "    </tr>\n",
       "    <tr>\n",
       "      <th>4</th>\n",
       "      <td>151.5</td>\n",
       "      <td>41.3</td>\n",
       "      <td>58.5</td>\n",
       "      <td>18.5</td>\n",
       "    </tr>\n",
       "    <tr>\n",
       "      <th>5</th>\n",
       "      <td>180.8</td>\n",
       "      <td>10.8</td>\n",
       "      <td>58.4</td>\n",
       "      <td>12.9</td>\n",
       "    </tr>\n",
       "  </tbody>\n",
       "</table>\n",
       "</div>"
      ],
      "text/plain": [
       "      TV  radio  newspaper  sales\n",
       "1  230.1   37.8       69.2   22.1\n",
       "2   44.5   39.3       45.1   10.4\n",
       "3   17.2   45.9       69.3    9.3\n",
       "4  151.5   41.3       58.5   18.5\n",
       "5  180.8   10.8       58.4   12.9"
      ]
     },
     "execution_count": 19,
     "metadata": {},
     "output_type": "execute_result"
    }
   ],
   "source": [
    "data.head()"
   ]
  },
  {
   "cell_type": "code",
   "execution_count": 20,
   "id": "aa6fa9b7",
   "metadata": {},
   "outputs": [
    {
     "data": {
      "text/plain": [
       "<matplotlib.collections.PathCollection at 0x231af04fbc8>"
      ]
     },
     "execution_count": 20,
     "metadata": {},
     "output_type": "execute_result"
    },
    {
     "data": {
      "image/png": "[encoded data removed]",
      "text/plain": [
       "<Figure size 432x288 with 1 Axes>"
      ]
     },
     "metadata": {
      "needs_background": "light"
     },
     "output_type": "display_data"
    }
   ],
   "source": [
    "plt.scatter(data.TV,data.sales)"
   ]
  },
  {
   "cell_type": "code",
   "execution_count": 51,
   "id": "86f0b440",
   "metadata": {},
   "outputs": [],
   "source": [
    "x=data.iloc[:,0:-1]\n",
    "y=data.iloc[:,-1]\n"
   ]
  },
  {
   "cell_type": "code",
   "execution_count": 52,
   "id": "16dd20e6",
   "metadata": {},
   "outputs": [],
   "source": [
    "\n",
    "x=x.to_numpy()\n",
    "y=y.to_numpy()"
   ]
  },
  {
   "cell_type": "code",
   "execution_count": 30,
   "id": "58fff028",
   "metadata": {},
   "outputs": [],
   "source": [
    "model=tf.keras.Sequential([tf.keras.layers.Dense(10,input_shape=(3,),activation='relu'),\n",
    "                           tf.keras.layers.Dense(1)]\n",
    "                         )"
   ]
  },
  {
   "cell_type": "code",
   "execution_count": 31,
   "id": "8ef24e01",
   "metadata": {},
   "outputs": [
    {
     "name": "stdout",
     "output_type": "stream",
     "text": [
      "Model: \"sequential\"\n",
      "_________________________________________________________________\n",
      "Layer (type)                 Output Shape              Param #   \n",
      "=================================================================\n",
      "dense (Dense)                (None, 10)                40        \n",
      "_________________________________________________________________\n",
      "dense_1 (Dense)              (None, 1)                 11        \n",
      "=================================================================\n",
      "Total params: 51\n",
      "Trainable params: 51\n",
      "Non-trainable params: 0\n",
      "_________________________________________________________________\n"
     ]
    }
   ],
   "source": [
    "model.summary()"
   ]
  },
  {
   "cell_type": "code",
   "execution_count": 54,
   "id": "77205aac",
   "metadata": {},
   "outputs": [],
   "source": [
    "model.compile(optimizer='adam',\n",
    "              loss='mse')"
   ]
  },
  {
   "cell_type": "code",
   "execution_count": 55,
   "id": "cb498f7c",
   "metadata": {},
   "outputs": [
    {
     "name": "stdout",
     "output_type": "stream",
     "text": [
      "Epoch 1/100\n",
      "7/7 [==============================] - 0s 916us/step - loss: 5852.7012\n",
      "Epoch 2/100\n",
      "7/7 [==============================] - 0s 570us/step - loss: 5344.7729\n",
      "Epoch 3/100\n",
      "7/7 [==============================] - 0s 1ms/step - loss: 4879.3208\n",
      "Epoch 4/100\n",
      "7/7 [==============================] - 0s 983us/step - loss: 4450.3750\n",
      "Epoch 5/100\n",
      "7/7 [==============================] - 0s 950us/step - loss: 4052.9299\n",
      "Epoch 6/100\n",
      "7/7 [==============================] - 0s 1ms/step - loss: 3673.1030\n",
      "Epoch 7/100\n",
      "7/7 [==============================] - 0s 854us/step - loss: 3324.2520\n",
      "Epoch 8/100\n",
      "7/7 [==============================] - 0s 989us/step - loss: 3014.3352\n",
      "Epoch 9/100\n",
      "7/7 [==============================] - 0s 1ms/step - loss: 2729.4561\n",
      "Epoch 10/100\n",
      "7/7 [==============================] - 0s 684us/step - loss: 2459.0142\n",
      "Epoch 11/100\n",
      "7/7 [==============================] - 0s 969us/step - loss: 2217.5361\n",
      "Epoch 12/100\n",
      "7/7 [==============================] - 0s 774us/step - loss: 1996.3270\n",
      "Epoch 13/100\n",
      "7/7 [==============================] - 0s 845us/step - loss: 1799.0125\n",
      "Epoch 14/100\n",
      "7/7 [==============================] - 0s 518us/step - loss: 1614.7997\n",
      "Epoch 15/100\n",
      "7/7 [==============================] - 0s 949us/step - loss: 1448.4739\n",
      "Epoch 16/100\n",
      "7/7 [==============================] - 0s 625us/step - loss: 1295.1290\n",
      "Epoch 17/100\n",
      "7/7 [==============================] - 0s 750us/step - loss: 1151.6681\n",
      "Epoch 18/100\n",
      "7/7 [==============================] - 0s 854us/step - loss: 1025.7343\n",
      "Epoch 19/100\n",
      "7/7 [==============================] - 0s 583us/step - loss: 909.9135\n",
      "Epoch 20/100\n",
      "7/7 [==============================] - 0s 871us/step - loss: 802.5824\n",
      "Epoch 21/100\n",
      "7/7 [==============================] - 0s 797us/step - loss: 705.6347\n",
      "Epoch 22/100\n",
      "7/7 [==============================] - 0s 863us/step - loss: 617.0070\n",
      "Epoch 23/100\n",
      "7/7 [==============================] - 0s 879us/step - loss: 540.9609\n",
      "Epoch 24/100\n",
      "7/7 [==============================] - 0s 781us/step - loss: 470.1424\n",
      "Epoch 25/100\n",
      "7/7 [==============================] - 0s 848us/step - loss: 407.5717\n",
      "Epoch 26/100\n",
      "7/7 [==============================] - 0s 718us/step - loss: 349.8716\n",
      "Epoch 27/100\n",
      "7/7 [==============================] - 0s 1ms/step - loss: 297.0764\n",
      "Epoch 28/100\n",
      "7/7 [==============================] - 0s 902us/step - loss: 245.3943\n",
      "Epoch 29/100\n",
      "7/7 [==============================] - 0s 1ms/step - loss: 198.8657\n",
      "Epoch 30/100\n",
      "7/7 [==============================] - 0s 962us/step - loss: 155.2651\n",
      "Epoch 31/100\n",
      "7/7 [==============================] - 0s 1ms/step - loss: 117.7074\n",
      "Epoch 32/100\n",
      "7/7 [==============================] - 0s 1ms/step - loss: 86.4717\n",
      "Epoch 33/100\n",
      "7/7 [==============================] - 0s 1ms/step - loss: 64.3264\n",
      "Epoch 34/100\n",
      "7/7 [==============================] - 0s 1ms/step - loss: 49.2072\n",
      "Epoch 35/100\n",
      "7/7 [==============================] - 0s 1ms/step - loss: 41.7061\n",
      "Epoch 36/100\n",
      "7/7 [==============================] - 0s 1ms/step - loss: 36.9958\n",
      "Epoch 37/100\n",
      "7/7 [==============================] - 0s 962us/step - loss: 33.5678\n",
      "Epoch 38/100\n",
      "7/7 [==============================] - 0s 1ms/step - loss: 30.9325\n",
      "Epoch 39/100\n",
      "7/7 [==============================] - 0s 1ms/step - loss: 28.1514\n",
      "Epoch 40/100\n",
      "7/7 [==============================] - 0s 1ms/step - loss: 26.0524\n",
      "Epoch 41/100\n",
      "7/7 [==============================] - 0s 1ms/step - loss: 24.0280\n",
      "Epoch 42/100\n",
      "7/7 [==============================] - 0s 1ms/step - loss: 22.4063\n",
      "Epoch 43/100\n",
      "7/7 [==============================] - 0s 1ms/step - loss: 21.0999\n",
      "Epoch 44/100\n",
      "7/7 [==============================] - 0s 1ms/step - loss: 19.8151\n",
      "Epoch 45/100\n",
      "7/7 [==============================] - 0s 1ms/step - loss: 18.6260\n",
      "Epoch 46/100\n",
      "7/7 [==============================] - 0s 1ms/step - loss: 17.5395\n",
      "Epoch 47/100\n",
      "7/7 [==============================] - 0s 1ms/step - loss: 16.6334\n",
      "Epoch 48/100\n",
      "7/7 [==============================] - 0s 1ms/step - loss: 15.7599\n",
      "Epoch 49/100\n",
      "7/7 [==============================] - 0s 1ms/step - loss: 14.9564\n",
      "Epoch 50/100\n",
      "7/7 [==============================] - 0s 15ms/step - loss: 14.2396\n",
      "Epoch 51/100\n",
      "7/7 [==============================] - 0s 724us/step - loss: 13.5338\n",
      "Epoch 52/100\n",
      "7/7 [==============================] - 0s 589us/step - loss: 12.8903\n",
      "Epoch 53/100\n",
      "7/7 [==============================] - 0s 834us/step - loss: 12.3092\n",
      "Epoch 54/100\n",
      "7/7 [==============================] - 0s 648us/step - loss: 11.7517\n",
      "Epoch 55/100\n",
      "7/7 [==============================] - 0s 626us/step - loss: 11.2355\n",
      "Epoch 56/100\n",
      "7/7 [==============================] - 0s 866us/step - loss: 10.7964\n",
      "Epoch 57/100\n",
      "7/7 [==============================] - 0s 737us/step - loss: 10.3139\n",
      "Epoch 58/100\n",
      "7/7 [==============================] - 0s 862us/step - loss: 9.9345\n",
      "Epoch 59/100\n",
      "7/7 [==============================] - 0s 728us/step - loss: 9.5583\n",
      "Epoch 60/100\n",
      "7/7 [==============================] - 0s 728us/step - loss: 9.2188\n",
      "Epoch 61/100\n",
      "7/7 [==============================] - 0s 714us/step - loss: 8.9161\n",
      "Epoch 62/100\n",
      "7/7 [==============================] - 0s 827us/step - loss: 8.6104\n",
      "Epoch 63/100\n",
      "7/7 [==============================] - 0s 645us/step - loss: 8.3454\n",
      "Epoch 64/100\n",
      "7/7 [==============================] - 0s 992us/step - loss: 8.1016\n",
      "Epoch 65/100\n",
      "7/7 [==============================] - 0s 727us/step - loss: 7.8855\n",
      "Epoch 66/100\n",
      "7/7 [==============================] - 0s 684us/step - loss: 7.6617\n",
      "Epoch 67/100\n",
      "7/7 [==============================] - 0s 572us/step - loss: 7.4664\n",
      "Epoch 68/100\n",
      "7/7 [==============================] - 0s 834us/step - loss: 7.2762\n",
      "Epoch 69/100\n",
      "7/7 [==============================] - 0s 855us/step - loss: 7.0998\n",
      "Epoch 70/100\n",
      "7/7 [==============================] - 0s 962us/step - loss: 6.9306\n",
      "Epoch 71/100\n",
      "7/7 [==============================] - 0s 616us/step - loss: 6.7701\n",
      "Epoch 72/100\n",
      "7/7 [==============================] - 0s 565us/step - loss: 6.6237\n",
      "Epoch 73/100\n",
      "7/7 [==============================] - 0s 767us/step - loss: 6.4762\n",
      "Epoch 74/100\n",
      "7/7 [==============================] - 0s 723us/step - loss: 6.3496\n",
      "Epoch 75/100\n",
      "7/7 [==============================] - 0s 752us/step - loss: 6.2144\n",
      "Epoch 76/100\n",
      "7/7 [==============================] - 0s 602us/step - loss: 6.0959\n",
      "Epoch 77/100\n",
      "7/7 [==============================] - 0s 823us/step - loss: 5.9820\n",
      "Epoch 78/100\n",
      "7/7 [==============================] - 0s 802us/step - loss: 5.8742\n",
      "Epoch 79/100\n",
      "7/7 [==============================] - 0s 507us/step - loss: 5.7603\n",
      "Epoch 80/100\n",
      "7/7 [==============================] - 0s 710us/step - loss: 5.6568\n",
      "Epoch 81/100\n",
      "7/7 [==============================] - 0s 1ms/step - loss: 5.5715\n",
      "Epoch 82/100\n",
      "7/7 [==============================] - 0s 870us/step - loss: 5.4763\n",
      "Epoch 83/100\n",
      "7/7 [==============================] - 0s 711us/step - loss: 5.3954\n",
      "Epoch 84/100\n",
      "7/7 [==============================] - 0s 795us/step - loss: 5.3146\n",
      "Epoch 85/100\n",
      "7/7 [==============================] - 0s 606us/step - loss: 5.2416\n",
      "Epoch 86/100\n",
      "7/7 [==============================] - 0s 651us/step - loss: 5.1648\n",
      "Epoch 87/100\n",
      "7/7 [==============================] - 0s 720us/step - loss: 5.0842\n",
      "Epoch 88/100\n",
      "7/7 [==============================] - 0s 642us/step - loss: 5.0307\n",
      "Epoch 89/100\n",
      "7/7 [==============================] - 0s 1ms/step - loss: 4.9465\n",
      "Epoch 90/100\n",
      "7/7 [==============================] - 0s 743us/step - loss: 4.8858\n",
      "Epoch 91/100\n",
      "7/7 [==============================] - 0s 701us/step - loss: 4.8250\n",
      "Epoch 92/100\n",
      "7/7 [==============================] - 0s 607us/step - loss: 4.7712\n",
      "Epoch 93/100\n",
      "7/7 [==============================] - 0s 707us/step - loss: 4.7073\n",
      "Epoch 94/100\n",
      "7/7 [==============================] - 0s 780us/step - loss: 4.6411\n",
      "Epoch 95/100\n",
      "7/7 [==============================] - 0s 511us/step - loss: 4.5818\n",
      "Epoch 96/100\n",
      "7/7 [==============================] - 0s 738us/step - loss: 4.5486\n",
      "Epoch 97/100\n",
      "7/7 [==============================] - 0s 657us/step - loss: 4.4866\n",
      "Epoch 98/100\n",
      "7/7 [==============================] - 0s 1ms/step - loss: 4.4400\n",
      "Epoch 99/100\n",
      "7/7 [==============================] - 0s 712us/step - loss: 4.3939\n",
      "Epoch 100/100\n",
      "7/7 [==============================] - 0s 591us/step - loss: 4.3599\n"
     ]
    },
    {
     "data": {
      "text/plain": [
       "<tensorflow.python.keras.callbacks.History at 0x231b8b0e2c8>"
      ]
     },
     "execution_count": 55,
     "metadata": {},
     "output_type": "execute_result"
    }
   ],
   "source": [
    "model.fit(x,y,epochs=100)"
   ]
  },
  {
   "cell_type": "code",
   "execution_count": 60,
   "id": "3839cb79",
   "metadata": {},
   "outputs": [],
   "source": [
    "test=data.iloc[:10,0:-1]\n",
    "test=test.to_numpy()"
   ]
  },
  {
   "cell_type": "code",
   "execution_count": 61,
   "id": "113d17b0",
   "metadata": {},
   "outputs": [
    {
     "data": {
      "text/plain": [
       "array([[23.702448 ],\n",
       "       [15.407011 ],\n",
       "       [ 9.546593 ],\n",
       "       [20.898848 ],\n",
       "       [14.086268 ],\n",
       "       [ 5.7354975],\n",
       "       [12.72632  ],\n",
       "       [10.921957 ],\n",
       "       [ 1.3601593],\n",
       "       [10.358169 ]], dtype=float32)"
      ]
     },
     "execution_count": 61,
     "metadata": {},
     "output_type": "execute_result"
    }
   ],
   "source": [
    "model.predict(test)"
   ]
  },
  {
   "cell_type": "code",
   "execution_count": 62,
   "id": "f38cc44a",
   "metadata": {},
   "outputs": [
    {
     "data": {
      "text/plain": [
       "1     22.1\n",
       "2     10.4\n",
       "3      9.3\n",
       "4     18.5\n",
       "5     12.9\n",
       "6      7.2\n",
       "7     11.8\n",
       "8     13.2\n",
       "9      4.8\n",
       "10    10.6\n",
       "Name: sales, dtype: float64"
      ]
     },
     "execution_count": 62,
     "metadata": {},
     "output_type": "execute_result"
    }
   ],
   "source": [
    "truth=data.iloc[:10,-1]\n",
    "truth"
   ]
  },
  {
   "cell_type": "code",
   "execution_count": null,
   "id": "fde0d254",
   "metadata": {},
   "outputs": [],
   "source": []
  }
 ],
 "metadata": {
  "kernelspec": {
   "display_name": "Python 3 (ipykernel)",
   "language": "python",
   "name": "python3"
  },
  "language_info": {
   "codemirror_mode": {
    "name": "ipython",
    "version": 3
   },
   "file_extension": ".py",
   "mimetype": "text/x-python",
   "name": "python",
   "nbconvert_exporter": "python",
   "pygments_lexer": "ipython3",
   "version": "3.7.12"
  }
 },
 "nbformat": 4,
 "nbformat_minor": 5
}
